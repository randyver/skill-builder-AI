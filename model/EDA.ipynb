{
 "cells": [
  {
   "cell_type": "code",
   "execution_count": 84,
   "metadata": {},
   "outputs": [],
   "source": [
    "import pandas as pd"
   ]
  },
  {
   "cell_type": "code",
   "execution_count": 85,
   "metadata": {},
   "outputs": [
    {
     "data": {
      "text/html": [
       "<div>\n",
       "<style scoped>\n",
       "    .dataframe tbody tr th:only-of-type {\n",
       "        vertical-align: middle;\n",
       "    }\n",
       "\n",
       "    .dataframe tbody tr th {\n",
       "        vertical-align: top;\n",
       "    }\n",
       "\n",
       "    .dataframe thead th {\n",
       "        text-align: right;\n",
       "    }\n",
       "</style>\n",
       "<table border=\"1\" class=\"dataframe\">\n",
       "  <thead>\n",
       "    <tr style=\"text-align: right;\">\n",
       "      <th></th>\n",
       "      <th>Confidence_Level</th>\n",
       "      <th>Self_Assessed_Skill_Level_in_WebDev</th>\n",
       "      <th>Interest_Level_in_WebDev</th>\n",
       "      <th>Self_Assessed_Skill_Level_in_GameDev</th>\n",
       "      <th>Interest_Level_in_GameDev</th>\n",
       "      <th>Self_Assessed_Skill_Level_in_CyberSecurity</th>\n",
       "      <th>Interest_Level_in_CyberSecuirty</th>\n",
       "      <th>Self_Assessed_Skill_Level_in_DataScience</th>\n",
       "      <th>Interest_Level_in_DataScience</th>\n",
       "      <th>Self_Assessed_Skill_Level_in_MobileDev</th>\n",
       "      <th>Interest_Level_in_MobileDev</th>\n",
       "      <th>Self_Assessed_Skill_Level_in_ProductManager</th>\n",
       "      <th>Interest_Level_in_ProductManager</th>\n",
       "      <th>Self_Assessed_Skill_Level_in_UIUX</th>\n",
       "      <th>Interest_Level_in_UIUX</th>\n",
       "      <th>Self_Assessed_Skill_Level_in_SoftEng</th>\n",
       "      <th>Interest_Level_in_SoftEng</th>\n",
       "      <th>Skill_to_Improve_First</th>\n",
       "    </tr>\n",
       "  </thead>\n",
       "  <tbody>\n",
       "    <tr>\n",
       "      <th>0</th>\n",
       "      <td>7</td>\n",
       "      <td>3</td>\n",
       "      <td>6</td>\n",
       "      <td>7</td>\n",
       "      <td>3</td>\n",
       "      <td>7</td>\n",
       "      <td>9</td>\n",
       "      <td>7</td>\n",
       "      <td>3</td>\n",
       "      <td>7</td>\n",
       "      <td>7</td>\n",
       "      <td>1</td>\n",
       "      <td>5</td>\n",
       "      <td>10</td>\n",
       "      <td>2</td>\n",
       "      <td>2</td>\n",
       "      <td>8</td>\n",
       "      <td>ProductManager</td>\n",
       "    </tr>\n",
       "    <tr>\n",
       "      <th>1</th>\n",
       "      <td>4</td>\n",
       "      <td>5</td>\n",
       "      <td>5</td>\n",
       "      <td>8</td>\n",
       "      <td>9</td>\n",
       "      <td>7</td>\n",
       "      <td>7</td>\n",
       "      <td>1</td>\n",
       "      <td>2</td>\n",
       "      <td>5</td>\n",
       "      <td>1</td>\n",
       "      <td>6</td>\n",
       "      <td>4</td>\n",
       "      <td>4</td>\n",
       "      <td>2</td>\n",
       "      <td>8</td>\n",
       "      <td>8</td>\n",
       "      <td>CodingSkill</td>\n",
       "    </tr>\n",
       "    <tr>\n",
       "      <th>2</th>\n",
       "      <td>8</td>\n",
       "      <td>3</td>\n",
       "      <td>7</td>\n",
       "      <td>5</td>\n",
       "      <td>6</td>\n",
       "      <td>6</td>\n",
       "      <td>9</td>\n",
       "      <td>2</td>\n",
       "      <td>10</td>\n",
       "      <td>3</td>\n",
       "      <td>4</td>\n",
       "      <td>8</td>\n",
       "      <td>10</td>\n",
       "      <td>9</td>\n",
       "      <td>9</td>\n",
       "      <td>6</td>\n",
       "      <td>9</td>\n",
       "      <td>DataScience</td>\n",
       "    </tr>\n",
       "    <tr>\n",
       "      <th>3</th>\n",
       "      <td>5</td>\n",
       "      <td>10</td>\n",
       "      <td>5</td>\n",
       "      <td>1</td>\n",
       "      <td>10</td>\n",
       "      <td>7</td>\n",
       "      <td>8</td>\n",
       "      <td>9</td>\n",
       "      <td>9</td>\n",
       "      <td>5</td>\n",
       "      <td>7</td>\n",
       "      <td>4</td>\n",
       "      <td>6</td>\n",
       "      <td>10</td>\n",
       "      <td>3</td>\n",
       "      <td>1</td>\n",
       "      <td>7</td>\n",
       "      <td>CyberSecurity</td>\n",
       "    </tr>\n",
       "    <tr>\n",
       "      <th>4</th>\n",
       "      <td>7</td>\n",
       "      <td>7</td>\n",
       "      <td>1</td>\n",
       "      <td>1</td>\n",
       "      <td>8</td>\n",
       "      <td>5</td>\n",
       "      <td>10</td>\n",
       "      <td>8</td>\n",
       "      <td>2</td>\n",
       "      <td>6</td>\n",
       "      <td>5</td>\n",
       "      <td>1</td>\n",
       "      <td>10</td>\n",
       "      <td>10</td>\n",
       "      <td>2</td>\n",
       "      <td>7</td>\n",
       "      <td>8</td>\n",
       "      <td>MobileDev</td>\n",
       "    </tr>\n",
       "  </tbody>\n",
       "</table>\n",
       "</div>"
      ],
      "text/plain": [
       "   Confidence_Level  Self_Assessed_Skill_Level_in_WebDev  \\\n",
       "0                 7                                    3   \n",
       "1                 4                                    5   \n",
       "2                 8                                    3   \n",
       "3                 5                                   10   \n",
       "4                 7                                    7   \n",
       "\n",
       "   Interest_Level_in_WebDev  Self_Assessed_Skill_Level_in_GameDev  \\\n",
       "0                         6                                     7   \n",
       "1                         5                                     8   \n",
       "2                         7                                     5   \n",
       "3                         5                                     1   \n",
       "4                         1                                     1   \n",
       "\n",
       "   Interest_Level_in_GameDev  Self_Assessed_Skill_Level_in_CyberSecurity  \\\n",
       "0                          3                                           7   \n",
       "1                          9                                           7   \n",
       "2                          6                                           6   \n",
       "3                         10                                           7   \n",
       "4                          8                                           5   \n",
       "\n",
       "   Interest_Level_in_CyberSecuirty  Self_Assessed_Skill_Level_in_DataScience  \\\n",
       "0                                9                                         7   \n",
       "1                                7                                         1   \n",
       "2                                9                                         2   \n",
       "3                                8                                         9   \n",
       "4                               10                                         8   \n",
       "\n",
       "   Interest_Level_in_DataScience  Self_Assessed_Skill_Level_in_MobileDev  \\\n",
       "0                              3                                       7   \n",
       "1                              2                                       5   \n",
       "2                             10                                       3   \n",
       "3                              9                                       5   \n",
       "4                              2                                       6   \n",
       "\n",
       "   Interest_Level_in_MobileDev  Self_Assessed_Skill_Level_in_ProductManager  \\\n",
       "0                            7                                            1   \n",
       "1                            1                                            6   \n",
       "2                            4                                            8   \n",
       "3                            7                                            4   \n",
       "4                            5                                            1   \n",
       "\n",
       "   Interest_Level_in_ProductManager  Self_Assessed_Skill_Level_in_UIUX  \\\n",
       "0                                 5                                 10   \n",
       "1                                 4                                  4   \n",
       "2                                10                                  9   \n",
       "3                                 6                                 10   \n",
       "4                                10                                 10   \n",
       "\n",
       "   Interest_Level_in_UIUX  Self_Assessed_Skill_Level_in_SoftEng  \\\n",
       "0                       2                                     2   \n",
       "1                       2                                     8   \n",
       "2                       9                                     6   \n",
       "3                       3                                     1   \n",
       "4                       2                                     7   \n",
       "\n",
       "   Interest_Level_in_SoftEng Skill_to_Improve_First  \n",
       "0                          8         ProductManager  \n",
       "1                          8            CodingSkill  \n",
       "2                          9            DataScience  \n",
       "3                          7          CyberSecurity  \n",
       "4                          8              MobileDev  "
      ]
     },
     "execution_count": 85,
     "metadata": {},
     "output_type": "execute_result"
    }
   ],
   "source": [
    "df= pd.read_csv('data.csv')\n",
    "df.head()"
   ]
  },
  {
   "cell_type": "code",
   "execution_count": 86,
   "metadata": {},
   "outputs": [
    {
     "name": "stdout",
     "output_type": "stream",
     "text": [
      "<class 'pandas.core.frame.DataFrame'>\n",
      "RangeIndex: 10000 entries, 0 to 9999\n",
      "Data columns (total 18 columns):\n",
      " #   Column                                       Non-Null Count  Dtype \n",
      "---  ------                                       --------------  ----- \n",
      " 0   Confidence_Level                             10000 non-null  int64 \n",
      " 1   Self_Assessed_Skill_Level_in_WebDev          10000 non-null  int64 \n",
      " 2   Interest_Level_in_WebDev                     10000 non-null  int64 \n",
      " 3   Self_Assessed_Skill_Level_in_GameDev         10000 non-null  int64 \n",
      " 4   Interest_Level_in_GameDev                    10000 non-null  int64 \n",
      " 5   Self_Assessed_Skill_Level_in_CyberSecurity   10000 non-null  int64 \n",
      " 6   Interest_Level_in_CyberSecuirty              10000 non-null  int64 \n",
      " 7   Self_Assessed_Skill_Level_in_DataScience     10000 non-null  int64 \n",
      " 8   Interest_Level_in_DataScience                10000 non-null  int64 \n",
      " 9   Self_Assessed_Skill_Level_in_MobileDev       10000 non-null  int64 \n",
      " 10  Interest_Level_in_MobileDev                  10000 non-null  int64 \n",
      " 11  Self_Assessed_Skill_Level_in_ProductManager  10000 non-null  int64 \n",
      " 12  Interest_Level_in_ProductManager             10000 non-null  int64 \n",
      " 13  Self_Assessed_Skill_Level_in_UIUX            10000 non-null  int64 \n",
      " 14  Interest_Level_in_UIUX                       10000 non-null  int64 \n",
      " 15  Self_Assessed_Skill_Level_in_SoftEng         10000 non-null  int64 \n",
      " 16  Interest_Level_in_SoftEng                    10000 non-null  int64 \n",
      " 17  Skill_to_Improve_First                       10000 non-null  object\n",
      "dtypes: int64(17), object(1)\n",
      "memory usage: 1.4+ MB\n"
     ]
    }
   ],
   "source": [
    "df.info()"
   ]
  },
  {
   "cell_type": "code",
   "execution_count": 87,
   "metadata": {},
   "outputs": [
    {
     "data": {
      "text/html": [
       "<div>\n",
       "<style scoped>\n",
       "    .dataframe tbody tr th:only-of-type {\n",
       "        vertical-align: middle;\n",
       "    }\n",
       "\n",
       "    .dataframe tbody tr th {\n",
       "        vertical-align: top;\n",
       "    }\n",
       "\n",
       "    .dataframe thead th {\n",
       "        text-align: right;\n",
       "    }\n",
       "</style>\n",
       "<table border=\"1\" class=\"dataframe\">\n",
       "  <thead>\n",
       "    <tr style=\"text-align: right;\">\n",
       "      <th></th>\n",
       "      <th>Confidence_Level</th>\n",
       "      <th>Self_Assessed_Skill_Level_in_WebDev</th>\n",
       "      <th>Interest_Level_in_WebDev</th>\n",
       "      <th>Self_Assessed_Skill_Level_in_GameDev</th>\n",
       "      <th>Interest_Level_in_GameDev</th>\n",
       "      <th>Self_Assessed_Skill_Level_in_CyberSecurity</th>\n",
       "      <th>Interest_Level_in_CyberSecuirty</th>\n",
       "      <th>Self_Assessed_Skill_Level_in_DataScience</th>\n",
       "      <th>Interest_Level_in_DataScience</th>\n",
       "      <th>Self_Assessed_Skill_Level_in_MobileDev</th>\n",
       "      <th>Interest_Level_in_MobileDev</th>\n",
       "      <th>Self_Assessed_Skill_Level_in_ProductManager</th>\n",
       "      <th>Interest_Level_in_ProductManager</th>\n",
       "      <th>Self_Assessed_Skill_Level_in_UIUX</th>\n",
       "      <th>Interest_Level_in_UIUX</th>\n",
       "      <th>Self_Assessed_Skill_Level_in_SoftEng</th>\n",
       "      <th>Interest_Level_in_SoftEng</th>\n",
       "    </tr>\n",
       "  </thead>\n",
       "  <tbody>\n",
       "    <tr>\n",
       "      <th>count</th>\n",
       "      <td>10000.000000</td>\n",
       "      <td>10000.000000</td>\n",
       "      <td>10000.000000</td>\n",
       "      <td>10000.000000</td>\n",
       "      <td>10000.000000</td>\n",
       "      <td>10000.000000</td>\n",
       "      <td>10000.000000</td>\n",
       "      <td>10000.000000</td>\n",
       "      <td>10000.000000</td>\n",
       "      <td>10000.000000</td>\n",
       "      <td>10000.00000</td>\n",
       "      <td>10000.000000</td>\n",
       "      <td>10000.000000</td>\n",
       "      <td>10000.000000</td>\n",
       "      <td>10000.00000</td>\n",
       "      <td>10000.000000</td>\n",
       "      <td>10000.000000</td>\n",
       "    </tr>\n",
       "    <tr>\n",
       "      <th>mean</th>\n",
       "      <td>5.497200</td>\n",
       "      <td>5.509700</td>\n",
       "      <td>5.476600</td>\n",
       "      <td>5.598600</td>\n",
       "      <td>5.539100</td>\n",
       "      <td>5.528100</td>\n",
       "      <td>5.453100</td>\n",
       "      <td>5.579400</td>\n",
       "      <td>5.480100</td>\n",
       "      <td>5.493700</td>\n",
       "      <td>5.51850</td>\n",
       "      <td>5.477800</td>\n",
       "      <td>5.506300</td>\n",
       "      <td>5.492400</td>\n",
       "      <td>5.47860</td>\n",
       "      <td>5.464300</td>\n",
       "      <td>5.497400</td>\n",
       "    </tr>\n",
       "    <tr>\n",
       "      <th>std</th>\n",
       "      <td>2.893964</td>\n",
       "      <td>2.876375</td>\n",
       "      <td>2.850801</td>\n",
       "      <td>2.858338</td>\n",
       "      <td>2.871602</td>\n",
       "      <td>2.854159</td>\n",
       "      <td>2.876496</td>\n",
       "      <td>2.879674</td>\n",
       "      <td>2.878373</td>\n",
       "      <td>2.896791</td>\n",
       "      <td>2.86466</td>\n",
       "      <td>2.872722</td>\n",
       "      <td>2.886727</td>\n",
       "      <td>2.881696</td>\n",
       "      <td>2.88128</td>\n",
       "      <td>2.865196</td>\n",
       "      <td>2.882017</td>\n",
       "    </tr>\n",
       "    <tr>\n",
       "      <th>min</th>\n",
       "      <td>1.000000</td>\n",
       "      <td>1.000000</td>\n",
       "      <td>1.000000</td>\n",
       "      <td>1.000000</td>\n",
       "      <td>1.000000</td>\n",
       "      <td>1.000000</td>\n",
       "      <td>1.000000</td>\n",
       "      <td>1.000000</td>\n",
       "      <td>1.000000</td>\n",
       "      <td>1.000000</td>\n",
       "      <td>1.00000</td>\n",
       "      <td>1.000000</td>\n",
       "      <td>1.000000</td>\n",
       "      <td>1.000000</td>\n",
       "      <td>1.00000</td>\n",
       "      <td>1.000000</td>\n",
       "      <td>1.000000</td>\n",
       "    </tr>\n",
       "    <tr>\n",
       "      <th>25%</th>\n",
       "      <td>3.000000</td>\n",
       "      <td>3.000000</td>\n",
       "      <td>3.000000</td>\n",
       "      <td>3.000000</td>\n",
       "      <td>3.000000</td>\n",
       "      <td>3.000000</td>\n",
       "      <td>3.000000</td>\n",
       "      <td>3.000000</td>\n",
       "      <td>3.000000</td>\n",
       "      <td>3.000000</td>\n",
       "      <td>3.00000</td>\n",
       "      <td>3.000000</td>\n",
       "      <td>3.000000</td>\n",
       "      <td>3.000000</td>\n",
       "      <td>3.00000</td>\n",
       "      <td>3.000000</td>\n",
       "      <td>3.000000</td>\n",
       "    </tr>\n",
       "    <tr>\n",
       "      <th>50%</th>\n",
       "      <td>6.000000</td>\n",
       "      <td>6.000000</td>\n",
       "      <td>5.000000</td>\n",
       "      <td>6.000000</td>\n",
       "      <td>6.000000</td>\n",
       "      <td>6.000000</td>\n",
       "      <td>5.000000</td>\n",
       "      <td>6.000000</td>\n",
       "      <td>5.000000</td>\n",
       "      <td>6.000000</td>\n",
       "      <td>6.00000</td>\n",
       "      <td>5.000000</td>\n",
       "      <td>6.000000</td>\n",
       "      <td>6.000000</td>\n",
       "      <td>5.00000</td>\n",
       "      <td>5.000000</td>\n",
       "      <td>5.500000</td>\n",
       "    </tr>\n",
       "    <tr>\n",
       "      <th>75%</th>\n",
       "      <td>8.000000</td>\n",
       "      <td>8.000000</td>\n",
       "      <td>8.000000</td>\n",
       "      <td>8.000000</td>\n",
       "      <td>8.000000</td>\n",
       "      <td>8.000000</td>\n",
       "      <td>8.000000</td>\n",
       "      <td>8.000000</td>\n",
       "      <td>8.000000</td>\n",
       "      <td>8.000000</td>\n",
       "      <td>8.00000</td>\n",
       "      <td>8.000000</td>\n",
       "      <td>8.000000</td>\n",
       "      <td>8.000000</td>\n",
       "      <td>8.00000</td>\n",
       "      <td>8.000000</td>\n",
       "      <td>8.000000</td>\n",
       "    </tr>\n",
       "    <tr>\n",
       "      <th>max</th>\n",
       "      <td>10.000000</td>\n",
       "      <td>10.000000</td>\n",
       "      <td>10.000000</td>\n",
       "      <td>10.000000</td>\n",
       "      <td>10.000000</td>\n",
       "      <td>10.000000</td>\n",
       "      <td>10.000000</td>\n",
       "      <td>10.000000</td>\n",
       "      <td>10.000000</td>\n",
       "      <td>10.000000</td>\n",
       "      <td>10.00000</td>\n",
       "      <td>10.000000</td>\n",
       "      <td>10.000000</td>\n",
       "      <td>10.000000</td>\n",
       "      <td>10.00000</td>\n",
       "      <td>10.000000</td>\n",
       "      <td>10.000000</td>\n",
       "    </tr>\n",
       "  </tbody>\n",
       "</table>\n",
       "</div>"
      ],
      "text/plain": [
       "       Confidence_Level  Self_Assessed_Skill_Level_in_WebDev  \\\n",
       "count      10000.000000                         10000.000000   \n",
       "mean           5.497200                             5.509700   \n",
       "std            2.893964                             2.876375   \n",
       "min            1.000000                             1.000000   \n",
       "25%            3.000000                             3.000000   \n",
       "50%            6.000000                             6.000000   \n",
       "75%            8.000000                             8.000000   \n",
       "max           10.000000                            10.000000   \n",
       "\n",
       "       Interest_Level_in_WebDev  Self_Assessed_Skill_Level_in_GameDev  \\\n",
       "count              10000.000000                          10000.000000   \n",
       "mean                   5.476600                              5.598600   \n",
       "std                    2.850801                              2.858338   \n",
       "min                    1.000000                              1.000000   \n",
       "25%                    3.000000                              3.000000   \n",
       "50%                    5.000000                              6.000000   \n",
       "75%                    8.000000                              8.000000   \n",
       "max                   10.000000                             10.000000   \n",
       "\n",
       "       Interest_Level_in_GameDev  Self_Assessed_Skill_Level_in_CyberSecurity  \\\n",
       "count               10000.000000                                10000.000000   \n",
       "mean                    5.539100                                    5.528100   \n",
       "std                     2.871602                                    2.854159   \n",
       "min                     1.000000                                    1.000000   \n",
       "25%                     3.000000                                    3.000000   \n",
       "50%                     6.000000                                    6.000000   \n",
       "75%                     8.000000                                    8.000000   \n",
       "max                    10.000000                                   10.000000   \n",
       "\n",
       "       Interest_Level_in_CyberSecuirty  \\\n",
       "count                     10000.000000   \n",
       "mean                          5.453100   \n",
       "std                           2.876496   \n",
       "min                           1.000000   \n",
       "25%                           3.000000   \n",
       "50%                           5.000000   \n",
       "75%                           8.000000   \n",
       "max                          10.000000   \n",
       "\n",
       "       Self_Assessed_Skill_Level_in_DataScience  \\\n",
       "count                              10000.000000   \n",
       "mean                                   5.579400   \n",
       "std                                    2.879674   \n",
       "min                                    1.000000   \n",
       "25%                                    3.000000   \n",
       "50%                                    6.000000   \n",
       "75%                                    8.000000   \n",
       "max                                   10.000000   \n",
       "\n",
       "       Interest_Level_in_DataScience  Self_Assessed_Skill_Level_in_MobileDev  \\\n",
       "count                   10000.000000                            10000.000000   \n",
       "mean                        5.480100                                5.493700   \n",
       "std                         2.878373                                2.896791   \n",
       "min                         1.000000                                1.000000   \n",
       "25%                         3.000000                                3.000000   \n",
       "50%                         5.000000                                6.000000   \n",
       "75%                         8.000000                                8.000000   \n",
       "max                        10.000000                               10.000000   \n",
       "\n",
       "       Interest_Level_in_MobileDev  \\\n",
       "count                  10000.00000   \n",
       "mean                       5.51850   \n",
       "std                        2.86466   \n",
       "min                        1.00000   \n",
       "25%                        3.00000   \n",
       "50%                        6.00000   \n",
       "75%                        8.00000   \n",
       "max                       10.00000   \n",
       "\n",
       "       Self_Assessed_Skill_Level_in_ProductManager  \\\n",
       "count                                 10000.000000   \n",
       "mean                                      5.477800   \n",
       "std                                       2.872722   \n",
       "min                                       1.000000   \n",
       "25%                                       3.000000   \n",
       "50%                                       5.000000   \n",
       "75%                                       8.000000   \n",
       "max                                      10.000000   \n",
       "\n",
       "       Interest_Level_in_ProductManager  Self_Assessed_Skill_Level_in_UIUX  \\\n",
       "count                      10000.000000                       10000.000000   \n",
       "mean                           5.506300                           5.492400   \n",
       "std                            2.886727                           2.881696   \n",
       "min                            1.000000                           1.000000   \n",
       "25%                            3.000000                           3.000000   \n",
       "50%                            6.000000                           6.000000   \n",
       "75%                            8.000000                           8.000000   \n",
       "max                           10.000000                          10.000000   \n",
       "\n",
       "       Interest_Level_in_UIUX  Self_Assessed_Skill_Level_in_SoftEng  \\\n",
       "count             10000.00000                          10000.000000   \n",
       "mean                  5.47860                              5.464300   \n",
       "std                   2.88128                              2.865196   \n",
       "min                   1.00000                              1.000000   \n",
       "25%                   3.00000                              3.000000   \n",
       "50%                   5.00000                              5.000000   \n",
       "75%                   8.00000                              8.000000   \n",
       "max                  10.00000                             10.000000   \n",
       "\n",
       "       Interest_Level_in_SoftEng  \n",
       "count               10000.000000  \n",
       "mean                    5.497400  \n",
       "std                     2.882017  \n",
       "min                     1.000000  \n",
       "25%                     3.000000  \n",
       "50%                     5.500000  \n",
       "75%                     8.000000  \n",
       "max                    10.000000  "
      ]
     },
     "execution_count": 87,
     "metadata": {},
     "output_type": "execute_result"
    }
   ],
   "source": [
    "df.describe()"
   ]
  },
  {
   "cell_type": "code",
   "execution_count": 88,
   "metadata": {},
   "outputs": [
    {
     "data": {
      "image/png": "[encoded data removed]",
      "text/plain": [
       "<Figure size 2000x1500 with 17 Axes>"
      ]
     },
     "metadata": {},
     "output_type": "display_data"
    }
   ],
   "source": [
    "import matplotlib.pyplot as plt\n",
    "\n",
    "# Drop 'Skill_to_Improve_First' \n",
    "features = df.drop(columns=['Skill_to_Improve_First'])\n",
    "\n",
    "# Create subplots with 5 rows dan 4 cols\n",
    "fig, ax = plt.subplots(5, 4, figsize=(20, 15))\n",
    "\n",
    "# Flatten array 2D to make it easier to iterate\n",
    "ax = ax.flatten()\n",
    "\n",
    "# Plot every feature\n",
    "for i, feature in enumerate(features.columns):\n",
    "    features[feature].plot(kind='hist', ax=ax[i], title=feature)\n",
    "    ax[i].set_title(feature)\n",
    "\n",
    "# Delete unused subplots\n",
    "for i in range(len(features.columns), len(ax)):\n",
    "    fig.delaxes(ax[i])\n",
    "\n",
    "plt.tight_layout()\n",
    "plt.show()\n"
   ]
  },
  {
   "cell_type": "code",
   "execution_count": 89,
   "metadata": {},
   "outputs": [],
   "source": [
    "from sklearn.preprocessing import LabelEncoder\n",
    "\n",
    "le = LabelEncoder()\n",
    "df['Skill_to_Improve_First'] = le.fit_transform(df['Skill_to_Improve_First'])"
   ]
  },
  {
   "cell_type": "code",
   "execution_count": 102,
   "metadata": {},
   "outputs": [
    {
     "data": {
      "text/plain": [
       "array(['CodingSkill', 'CyberSecurity', 'DataScience', 'GameDev',\n",
       "       'MobileDev', 'ProductManager', 'SoftEng', 'UIUX', 'WebDev'],\n",
       "      dtype=object)"
      ]
     },
     "execution_count": 102,
     "metadata": {},
     "output_type": "execute_result"
    }
   ],
   "source": [
    "le.classes_"
   ]
  },
  {
   "cell_type": "code",
   "execution_count": 90,
   "metadata": {},
   "outputs": [],
   "source": [
    "from sklearn.model_selection import train_test_split\n",
    "\n",
    "X = df.drop('Skill_to_Improve_First', axis=1)\n",
    "y = df['Skill_to_Improve_First']\n",
    "\n",
    "X_train, X_test, y_train, y_test = train_test_split(X, y, test_size=0.2, random_state=42)"
   ]
  },
  {
   "cell_type": "code",
   "execution_count": 91,
   "metadata": {},
   "outputs": [
    {
     "data": {
      "text/plain": [
       "{'learning_rate': 0.1, 'max_depth': 3, 'n_estimators': 100}"
      ]
     },
     "execution_count": 91,
     "metadata": {},
     "output_type": "execute_result"
    }
   ],
   "source": [
    "from sklearn.model_selection import GridSearchCV\n",
    "from sklearn.ensemble import GradientBoostingClassifier\n",
    "\n",
    "param_grid = {\n",
    "    'n_estimators': [50, 100, 200],\n",
    "    'max_depth': [3, 5, 7],\n",
    "    'learning_rate': [0.01, 0.1, 1]\n",
    "}\n",
    "\n",
    "gb = GradientBoostingClassifier(random_state=42)\n",
    "grid_search = GridSearchCV(estimator=gb, param_grid=param_grid, cv=3, n_jobs=-1)\n",
    "grid_search.fit(X_train, y_train)\n",
    "\n",
    "grid_search.best_params_"
   ]
  },
  {
   "cell_type": "code",
   "execution_count": 92,
   "metadata": {},
   "outputs": [
    {
     "data": {
      "text/plain": [
       "0.975"
      ]
     },
     "execution_count": 92,
     "metadata": {},
     "output_type": "execute_result"
    }
   ],
   "source": [
    "gb = GradientBoostingClassifier(random_state=42, **grid_search.best_params_)\n",
    "\n",
    "gb.fit(X_train, y_train)\n",
    "\n",
    "y_pred = gb.predict(X_test)\n",
    "\n",
    "accuracy = gb.score(X_test, y_test)\n",
    "\n",
    "accuracy"
   ]
  },
  {
   "cell_type": "code",
   "execution_count": 93,
   "metadata": {},
   "outputs": [
    {
     "name": "stderr",
     "output_type": "stream",
     "text": [
      "C:\\Users\\Lenovo\\AppData\\Roaming\\Python\\Python312\\site-packages\\joblib\\externals\\loky\\process_executor.py:752: UserWarning: A worker stopped while some jobs were given to the executor. This can be caused by a too short worker timeout or by a memory leak.\n",
      "  warnings.warn(\n"
     ]
    },
    {
     "data": {
      "text/plain": [
       "{'learning_rate': 0.1, 'max_depth': 3, 'n_estimators': 200}"
      ]
     },
     "execution_count": 93,
     "metadata": {},
     "output_type": "execute_result"
    }
   ],
   "source": [
    "from xgboost import XGBClassifier\n",
    "\n",
    "param_grid = {\n",
    "    'n_estimators': [50, 100, 200],\n",
    "    'max_depth': [3, 5, 7],\n",
    "    'learning_rate': [0.01, 0.1, 1]\n",
    "}\n",
    "\n",
    "xgb = XGBClassifier(random_state=42)\n",
    "\n",
    "grid_search = GridSearchCV(estimator=xgb, param_grid=param_grid, cv=3, n_jobs=-1)\n",
    "\n",
    "grid_search.fit(X_train, y_train)\n",
    "\n",
    "grid_search.best_params_"
   ]
  },
  {
   "cell_type": "code",
   "execution_count": 94,
   "metadata": {},
   "outputs": [
    {
     "data": {
      "text/plain": [
       "0.972"
      ]
     },
     "execution_count": 94,
     "metadata": {},
     "output_type": "execute_result"
    }
   ],
   "source": [
    "xgb = XGBClassifier(random_state=42, **grid_search.best_params_)\n",
    "\n",
    "xgb.fit(X_train, y_train)\n",
    "\n",
    "y_pred = xgb.predict(X_test)\n",
    "\n",
    "accuracy = xgb.score(X_test, y_test)\n",
    "\n",
    "accuracy"
   ]
  },
  {
   "cell_type": "code",
   "execution_count": 95,
   "metadata": {},
   "outputs": [
    {
     "data": {
      "text/plain": [
       "{'max_depth': 7, 'min_samples_leaf': 2, 'min_samples_split': 2}"
      ]
     },
     "execution_count": 95,
     "metadata": {},
     "output_type": "execute_result"
    }
   ],
   "source": [
    "from sklearn.tree import DecisionTreeClassifier\n",
    "\n",
    "param_grid = {\n",
    "    'max_depth': [3, 5, 7],\n",
    "    'min_samples_split': [2, 4, 6],\n",
    "    'min_samples_leaf': [1, 2, 3]\n",
    "}\n",
    "\n",
    "dt = DecisionTreeClassifier(random_state=42)\n",
    "grid_search = GridSearchCV(estimator=dt, param_grid=param_grid, cv=3, n_jobs=-1)\n",
    "\n",
    "grid_search.fit(X_train, y_train)\n",
    "\n",
    "grid_search.best_params_"
   ]
  },
  {
   "cell_type": "code",
   "execution_count": 96,
   "metadata": {},
   "outputs": [
    {
     "data": {
      "text/plain": [
       "0.728"
      ]
     },
     "execution_count": 96,
     "metadata": {},
     "output_type": "execute_result"
    }
   ],
   "source": [
    "dt = DecisionTreeClassifier(random_state=42, **grid_search.best_params_)\n",
    "\n",
    "dt.fit(X_train, y_train)\n",
    "\n",
    "y_pred = dt.predict(X_test)\n",
    "\n",
    "accuracy = dt.score(X_test, y_test)\n",
    "\n",
    "accuracy"
   ]
  },
  {
   "cell_type": "code",
   "execution_count": 97,
   "metadata": {},
   "outputs": [
    {
     "data": {
      "text/plain": [
       "{'max_depth': 7,\n",
       " 'min_samples_leaf': 3,\n",
       " 'min_samples_split': 2,\n",
       " 'n_estimators': 100}"
      ]
     },
     "execution_count": 97,
     "metadata": {},
     "output_type": "execute_result"
    }
   ],
   "source": [
    "from sklearn.ensemble import RandomForestClassifier\n",
    "\n",
    "param_grid = {\n",
    "    'n_estimators': [50, 100, 200],\n",
    "    'max_depth': [3, 5, 7],\n",
    "    'min_samples_split': [2, 4, 6],\n",
    "    'min_samples_leaf': [1, 2, 3]\n",
    "}\n",
    "\n",
    "rf = RandomForestClassifier(random_state=42)\n",
    "grid_search = GridSearchCV(estimator=rf, param_grid=param_grid, cv=3, n_jobs=-1)\n",
    "\n",
    "grid_search.fit(X_train, y_train)\n",
    "\n",
    "grid_search.best_params_"
   ]
  },
  {
   "cell_type": "code",
   "execution_count": 98,
   "metadata": {},
   "outputs": [
    {
     "data": {
      "text/plain": [
       "0.7185"
      ]
     },
     "execution_count": 98,
     "metadata": {},
     "output_type": "execute_result"
    }
   ],
   "source": [
    "rf = RandomForestClassifier(random_state=42, **grid_search.best_params_)\n",
    "\n",
    "rf.fit(X_train, y_train)\n",
    "\n",
    "y_pred = rf.predict(X_test)\n",
    "\n",
    "accuracy = rf.score(X_test, y_test)\n",
    "\n",
    "accuracy"
   ]
  },
  {
   "cell_type": "code",
   "execution_count": 99,
   "metadata": {},
   "outputs": [
    {
     "data": {
      "text/plain": [
       "{'C': 0.1, 'gamma': 0.1}"
      ]
     },
     "execution_count": 99,
     "metadata": {},
     "output_type": "execute_result"
    }
   ],
   "source": [
    "from sklearn.svm import SVC\n",
    "\n",
    "param_grid = {\n",
    "    'C': [0.1, 1, 10],\n",
    "    'gamma': [0.1, 1, 10],\n",
    "}\n",
    "\n",
    "svc = SVC(random_state=42)\n",
    "\n",
    "grid_search = GridSearchCV(estimator=svc, param_grid=param_grid, cv=3, n_jobs=-1)\n",
    "\n",
    "grid_search.fit(X_train, y_train)\n",
    "\n",
    "grid_search.best_params_"
   ]
  },
  {
   "cell_type": "code",
   "execution_count": 100,
   "metadata": {},
   "outputs": [
    {
     "data": {
      "text/plain": [
       "0.4115"
      ]
     },
     "execution_count": 100,
     "metadata": {},
     "output_type": "execute_result"
    }
   ],
   "source": [
    "svc = SVC(random_state=42, **grid_search.best_params_)\n",
    "\n",
    "svc.fit(X_train, y_train)\n",
    "\n",
    "y_pred = svc.predict(X_test)\n",
    "\n",
    "accuracy = svc.score(X_test, y_test)\n",
    "\n",
    "accuracy"
   ]
  },
  {
   "cell_type": "code",
   "execution_count": 101,
   "metadata": {},
   "outputs": [
    {
     "name": "stdout",
     "output_type": "stream",
     "text": [
      "Epoch 1/20\n",
      "\u001b[1m250/250\u001b[0m \u001b[32m━━━━━━━━━━━━━━━━━━━━\u001b[0m\u001b[37m\u001b[0m \u001b[1m1s\u001b[0m 1ms/step - accuracy: 0.4211 - loss: 1.9031\n",
      "Epoch 2/20\n",
      "\u001b[1m250/250\u001b[0m \u001b[32m━━━━━━━━━━━━━━━━━━━━\u001b[0m\u001b[37m\u001b[0m \u001b[1m0s\u001b[0m 2ms/step - accuracy: 0.5481 - loss: 1.2208\n",
      "Epoch 3/20\n",
      "\u001b[1m250/250\u001b[0m \u001b[32m━━━━━━━━━━━━━━━━━━━━\u001b[0m\u001b[37m\u001b[0m \u001b[1m0s\u001b[0m 1ms/step - accuracy: 0.5558 - loss: 1.1388\n",
      "Epoch 4/20\n",
      "\u001b[1m250/250\u001b[0m \u001b[32m━━━━━━━━━━━━━━━━━━━━\u001b[0m\u001b[37m\u001b[0m \u001b[1m0s\u001b[0m 2ms/step - accuracy: 0.5757 - loss: 1.0791\n",
      "Epoch 5/20\n",
      "\u001b[1m250/250\u001b[0m \u001b[32m━━━━━━━━━━━━━━━━━━━━\u001b[0m\u001b[37m\u001b[0m \u001b[1m0s\u001b[0m 2ms/step - accuracy: 0.5977 - loss: 1.0236\n",
      "Epoch 6/20\n",
      "\u001b[1m250/250\u001b[0m \u001b[32m━━━━━━━━━━━━━━━━━━━━\u001b[0m\u001b[37m\u001b[0m \u001b[1m0s\u001b[0m 2ms/step - accuracy: 0.6372 - loss: 0.9554\n",
      "Epoch 7/20\n",
      "\u001b[1m250/250\u001b[0m \u001b[32m━━━━━━━━━━━━━━━━━━━━\u001b[0m\u001b[37m\u001b[0m \u001b[1m0s\u001b[0m 1ms/step - accuracy: 0.6343 - loss: 0.9418\n",
      "Epoch 8/20\n",
      "\u001b[1m250/250\u001b[0m \u001b[32m━━━━━━━━━━━━━━━━━━━━\u001b[0m\u001b[37m\u001b[0m \u001b[1m0s\u001b[0m 2ms/step - accuracy: 0.6700 - loss: 0.8718\n",
      "Epoch 9/20\n",
      "\u001b[1m250/250\u001b[0m \u001b[32m━━━━━━━━━━━━━━━━━━━━\u001b[0m\u001b[37m\u001b[0m \u001b[1m1s\u001b[0m 1ms/step - accuracy: 0.6618 - loss: 0.8923\n",
      "Epoch 10/20\n",
      "\u001b[1m250/250\u001b[0m \u001b[32m━━━━━━━━━━━━━━━━━━━━\u001b[0m\u001b[37m\u001b[0m \u001b[1m0s\u001b[0m 1ms/step - accuracy: 0.6931 - loss: 0.8294\n",
      "Epoch 11/20\n",
      "\u001b[1m250/250\u001b[0m \u001b[32m━━━━━━━━━━━━━━━━━━━━\u001b[0m\u001b[37m\u001b[0m \u001b[1m0s\u001b[0m 1ms/step - accuracy: 0.7034 - loss: 0.8002\n",
      "Epoch 12/20\n",
      "\u001b[1m250/250\u001b[0m \u001b[32m━━━━━━━━━━━━━━━━━━━━\u001b[0m\u001b[37m\u001b[0m \u001b[1m0s\u001b[0m 1ms/step - accuracy: 0.7173 - loss: 0.7501\n",
      "Epoch 13/20\n",
      "\u001b[1m250/250\u001b[0m \u001b[32m━━━━━━━━━━━━━━━━━━━━\u001b[0m\u001b[37m\u001b[0m \u001b[1m0s\u001b[0m 1ms/step - accuracy: 0.7279 - loss: 0.7332\n",
      "Epoch 14/20\n",
      "\u001b[1m250/250\u001b[0m \u001b[32m━━━━━━━━━━━━━━━━━━━━\u001b[0m\u001b[37m\u001b[0m \u001b[1m0s\u001b[0m 1ms/step - accuracy: 0.7344 - loss: 0.7253\n",
      "Epoch 15/20\n",
      "\u001b[1m250/250\u001b[0m \u001b[32m━━━━━━━━━━━━━━━━━━━━\u001b[0m\u001b[37m\u001b[0m \u001b[1m0s\u001b[0m 1ms/step - accuracy: 0.7426 - loss: 0.6949\n",
      "Epoch 16/20\n",
      "\u001b[1m250/250\u001b[0m \u001b[32m━━━━━━━━━━━━━━━━━━━━\u001b[0m\u001b[37m\u001b[0m \u001b[1m0s\u001b[0m 1ms/step - accuracy: 0.7364 - loss: 0.6950\n",
      "Epoch 17/20\n",
      "\u001b[1m250/250\u001b[0m \u001b[32m━━━━━━━━━━━━━━━━━━━━\u001b[0m\u001b[37m\u001b[0m \u001b[1m0s\u001b[0m 1ms/step - accuracy: 0.7558 - loss: 0.6710\n",
      "Epoch 18/20\n",
      "\u001b[1m250/250\u001b[0m \u001b[32m━━━━━━━━━━━━━━━━━━━━\u001b[0m\u001b[37m\u001b[0m \u001b[1m0s\u001b[0m 1ms/step - accuracy: 0.7605 - loss: 0.6453\n",
      "Epoch 19/20\n",
      "\u001b[1m250/250\u001b[0m \u001b[32m━━━━━━━━━━━━━━━━━━━━\u001b[0m\u001b[37m\u001b[0m \u001b[1m0s\u001b[0m 1ms/step - accuracy: 0.7665 - loss: 0.6268\n",
      "Epoch 20/20\n",
      "\u001b[1m250/250\u001b[0m \u001b[32m━━━━━━━━━━━━━━━━━━━━\u001b[0m\u001b[37m\u001b[0m \u001b[1m0s\u001b[0m 1ms/step - accuracy: 0.7739 - loss: 0.6070\n",
      "\u001b[1m63/63\u001b[0m \u001b[32m━━━━━━━━━━━━━━━━━━━━\u001b[0m\u001b[37m\u001b[0m \u001b[1m0s\u001b[0m 1ms/step - accuracy: 0.7296 - loss: 0.7167\n"
     ]
    },
    {
     "data": {
      "text/plain": [
       "[0.7137376666069031, 0.7279999852180481]"
      ]
     },
     "execution_count": 101,
     "metadata": {},
     "output_type": "execute_result"
    }
   ],
   "source": [
    "import tensorflow as tf\n",
    "\n",
    "model = tf.keras.models.Sequential([\n",
    "    tf.keras.Input(shape=(X_train.shape[1],)),\n",
    "    tf.keras.layers.Dense(64, activation='leaky_relu'),\n",
    "    tf.keras.layers.Dense(64, activation='leaky_relu'),\n",
    "    tf.keras.layers.Dense(32, activation='leaky_relu'),\n",
    "    tf.keras.layers.Dense(10, activation='softmax')\n",
    "])\n",
    "\n",
    "model.compile(optimizer='adam', \n",
    "              loss='sparse_categorical_crossentropy',\n",
    "              metrics=['accuracy'])\n",
    "\n",
    "model.fit(X_train, y_train, epochs=20, batch_size=32)\n",
    "\n",
    "model.evaluate(X_test, y_test)\n",
    "\n"
   ]
  }
 ],
 "metadata": {
  "kernelspec": {
   "display_name": "Python 3",
   "language": "python",
   "name": "python3"
  },
  "language_info": {
   "codemirror_mode": {
    "name": "ipython",
    "version": 3
   },
   "file_extension": ".py",
   "mimetype": "text/x-python",
   "name": "python",
   "nbconvert_exporter": "python",
   "pygments_lexer": "ipython3",
   "version": "3.12.4"
  }
 },
 "nbformat": 4,
 "nbformat_minor": 2
}
